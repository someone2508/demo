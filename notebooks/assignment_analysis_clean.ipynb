import os, math, json
from pathlib import Path
import pandas as pd
import numpy as np
import plotly.express as px

pd.set_option('display.max_columns', 200)
DATA_DIR = Path('/workspace/data')
OUTPUT_DIR = Path('/workspace/output')
OUTPUT_DIR.mkdir(parents=True, exist_ok=True)

# IO helpers

def read_backend(path: Path, sheet_preference=('Backend Data','Sheet1')) -> pd.DataFrame:
    xls = pd.ExcelFile(path)
    chosen = None
    for s in sheet_preference:
        if s in xls.sheet_names:
            chosen = s
            break
    if chosen is None:
        chosen = xls.sheet_names[0]
    df = pd.read_excel(path, sheet_name=chosen, header=1)
    if 'Unnamed: 0' in df.columns:
        df = df.drop(columns=['Unnamed: 0'])
    return df

def clean_cols(df):
    df = df.copy()
    df.columns = [str(c).strip().replace(' ', '_').replace('-', '_') for c in df.columns]
    return df

players = clean_cols(read_backend(DATA_DIR / 'Player_Details.xlsx'))
first_bets = clean_cols(read_backend(DATA_DIR / 'First_Bet_Data.xlsx', sheet_preference=('Sheet1',)))
first_deposits = clean_cols(read_backend(DATA_DIR / 'First_Deposit_Data.xlsx'))
activity = clean_cols(read_backend(DATA_DIR / 'Player_Activity_Data.xlsx'))
bonus = clean_cols(read_backend(DATA_DIR / 'BonusCost_Data.xlsx'))

# Standardize ids and parse dates
players.rename(columns={'src_player_id':'Src_Player_Id'}, inplace=True)
activity.rename(columns={'src_player_id':'Src_Player_Id'}, inplace=True)
bonus.rename(columns={'src_player_id':'Src_Player_Id','Src_PLAYER_ID':'Src_Player_Id'}, inplace=True)

players['Signup_Date'] = pd.to_datetime(players['Signup_Date'], errors='coerce')
first_bets['System_First_Bet_Datetime'] = pd.to_datetime(first_bets['System_First_Bet_Datetime'], errors='coerce')
first_deposits['First_Deposit_Date'] = pd.to_datetime(first_deposits['First_Deposit_Date'], errors='coerce')
activity['ActivityMonth'] = pd.to_datetime(activity['ActivityMonth'], errors='coerce')

# Clean numeric fields
first_deposits['First_Deposit_Amount'] = pd.to_numeric(first_deposits['First_Deposit_Amount'], errors='coerce')
activity['ActivePlayerDays'] = pd.to_numeric(activity['ActivePlayerDays'], errors='coerce')
activity['Bet_Amount'] = pd.to_numeric(activity['Bet_Amount'], errors='coerce')
activity['Net_Gross_Win'] = pd.to_numeric(activity['Net_Gross_Win'], errors='coerce')
bonus['BONUS_COST'] = pd.to_numeric(bonus['BONUS_COST'], errors='coerce')

# Filter out internal players
players = players[players.get('Internal_Player_YN','N').fillna('N') != 'Y']
players['acquisition_channel'] = players.get('acquisition_channel','Unknown').fillna('Unknown')
players['signup_month'] = players['Signup_Date'].dt.to_period('M').astype(str)

# One row per player
base = players[['Src_Player_Id','Signup_Date','acquisition_channel','signup_month']].drop_duplicates()
base = base.merge(first_deposits[['Src_Player_Id','First_Deposit_Date','First_Deposit_Amount','First_Deposit_Channel','First_Deposit_Method']], how='left', on='Src_Player_Id')
base = base.merge(first_bets[['Src_Player_Id','System_First_Bet_Datetime','System_First_BetSlip_Amt','System_First_Bet_Product_Group','System_First_Bet_Product']], how='left', on='Src_Player_Id')

# 30-day active flag using month overlap approximation
act = activity[['Src_Player_Id','ActivityMonth','ActivePlayerDays']].dropna(subset=['Src_Player_Id']).copy()
act['month_start'] = act['ActivityMonth'].dt.to_period('M').dt.to_timestamp(how='start')
act['month_end'] = act['ActivityMonth'].dt.to_period('M').dt.to_timestamp(how='end')
merged = act.merge(players[['Src_Player_Id','Signup_Date']], on='Src_Player_Id', how='inner')
ws = merged['Signup_Date']; we = merged['Signup_Date'] + pd.Timedelta(days=30)
start = np.where(merged['month_start'] > ws, merged['month_start'], ws)
end = np.where(merged['month_end'] < we, merged['month_end'], we)
overlap = (pd.to_datetime(end) - pd.to_datetime(start)).astype('timedelta64[D]').astype(float)
overlap = np.where(overlap < 0, 0, overlap)
win_days = np.minimum(merged['ActivePlayerDays'].fillna(0).to_numpy(dtype=float), overlap)
active_30 = pd.DataFrame({'Src_Player_Id': merged['Src_Player_Id'], 'active_days_30d': win_days}).groupby('Src_Player_Id', as_index=False)['active_days_30d'].sum()
base = base.merge(active_30, on='Src_Player_Id', how='left')
base['active_days_30d'] = base['active_days_30d'].fillna(0)
base['active_30d_flag'] = base['active_days_30d'] > 0

print('Players:', len(base))## Assignment Analysis: Funnel, Retention, and Segmentation

This notebook loads the provided datasets, cleans and validates them, computes all requested KPIs, and exports tables and charts. Use the generated CSVs and HTML charts in `output/` for your submission deck.